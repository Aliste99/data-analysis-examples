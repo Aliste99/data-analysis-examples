{
 "cells": [
  {
   "cell_type": "code",
   "execution_count": 1,
   "metadata": {},
   "outputs": [],
   "source": [
    "import pandas as pd\n",
    "import numpy as np\n",
    "import re"
   ]
  },
  {
   "cell_type": "code",
   "execution_count": 2,
   "metadata": {},
   "outputs": [],
   "source": [
    "df = pd.read_csv('data/Minjust2018.csv', \n",
    "                 header=None, \n",
    "                 usecols=[4, 27, 28, 33])\n",
    "df.fillna('', inplace=True)\n",
    "df.rename(columns={4: 'name', \n",
    "                   27: 'director', \n",
    "                   28: 'activity', \n",
    "                   33: 'founders'},\n",
    "              inplace = True)"
   ]
  },
  {
   "cell_type": "code",
   "execution_count": 3,
   "metadata": {},
   "outputs": [],
   "source": [
    "def child_regex(surname, name):\n",
    "    pattern = re.compile(surname + r'а?' +\n",
    "                         r'\\s+\\w+\\s+' + # First name\n",
    "                         remove_vowels(name) + # Patronymic\n",
    "                         r'|' + \n",
    "                         r'\\w+\\s+' + # First name\n",
    "                         remove_vowels(name) + r'\\w+\\s+' + # Patronymic\n",
    "                         surname,\n",
    "                         re.IGNORECASE)\n",
    "    return pattern\n",
    "\n",
    "def remove_vowels(name):\n",
    "    while True:\n",
    "        if name[-1] not in ['а', 'о', 'и', 'е', 'ё', 'э', 'ы', 'у', 'ю', 'я', 'й']:\n",
    "            break\n",
    "        else:\n",
    "            name = name[: -1]\n",
    "    return name"
   ]
  },
  {
   "cell_type": "code",
   "execution_count": 13,
   "metadata": {},
   "outputs": [
    {
     "data": {
      "text/html": [
       "<div>\n",
       "<style scoped>\n",
       "    .dataframe tbody tr th:only-of-type {\n",
       "        vertical-align: middle;\n",
       "    }\n",
       "\n",
       "    .dataframe tbody tr th {\n",
       "        vertical-align: top;\n",
       "    }\n",
       "\n",
       "    .dataframe thead th {\n",
       "        text-align: right;\n",
       "    }\n",
       "</style>\n",
       "<table border=\"1\" class=\"dataframe\">\n",
       "  <thead>\n",
       "    <tr style=\"text-align: right;\">\n",
       "      <th></th>\n",
       "      <th>name</th>\n",
       "      <th>director</th>\n",
       "      <th>activity</th>\n",
       "      <th>founders</th>\n",
       "    </tr>\n",
       "  </thead>\n",
       "  <tbody>\n",
       "    <tr>\n",
       "      <th>21457</th>\n",
       "      <td>Общество с ограниченной ответственностью \"Joly...</td>\n",
       "      <td>Атамбаева Динара Алмазбековна</td>\n",
       "      <td>Деятельность агентов по оптовой торговле товар...</td>\n",
       "      <td>Атамбаева Диана Алмазбековна, Атамбаева Динара...</td>\n",
       "    </tr>\n",
       "    <tr>\n",
       "      <th>32566</th>\n",
       "      <td>Открытое акционерное общество \"НООРУЗ\" в ООО \"...</td>\n",
       "      <td>Оморкулов Азизбек Пазылбаевич</td>\n",
       "      <td></td>\n",
       "      <td>Атамбаева Диана Алмазбековна, согласно реестра...</td>\n",
       "    </tr>\n",
       "    <tr>\n",
       "      <th>76153</th>\n",
       "      <td>Общество с ограниченной ответственностью \"Кырг...</td>\n",
       "      <td>Разоков Шухрат Абдуалиевич</td>\n",
       "      <td>Разведение прочих животных</td>\n",
       "      <td>Разоков Шухрат Абдуалиевич, Атамбаев Кадырбек ...</td>\n",
       "    </tr>\n",
       "    <tr>\n",
       "      <th>83496</th>\n",
       "      <td>Общество с ограниченной ответственностью \"ФоКа...</td>\n",
       "      <td>Асангул кызы Айсулуу</td>\n",
       "      <td>Складирование и хранение грузов</td>\n",
       "      <td>Асангул кызы Айсулуу , Атамбаева Динара Алмазб...</td>\n",
       "    </tr>\n",
       "    <tr>\n",
       "      <th>108196</th>\n",
       "      <td>Общество с ограниченной ответственностью \"АВТО...</td>\n",
       "      <td>Кадыркулов Ильяс Суеркулович</td>\n",
       "      <td>Производство прочего электрического оборудован...</td>\n",
       "      <td>Атамбаев Сейтек Алмазбекович</td>\n",
       "    </tr>\n",
       "  </tbody>\n",
       "</table>\n",
       "</div>"
      ],
      "text/plain": [
       "                                                     name  \\\n",
       "21457   Общество с ограниченной ответственностью \"Joly...   \n",
       "32566   Открытое акционерное общество \"НООРУЗ\" в ООО \"...   \n",
       "76153   Общество с ограниченной ответственностью \"Кырг...   \n",
       "83496   Общество с ограниченной ответственностью \"ФоКа...   \n",
       "108196  Общество с ограниченной ответственностью \"АВТО...   \n",
       "\n",
       "                              director  \\\n",
       "21457    Атамбаева Динара Алмазбековна   \n",
       "32566   Оморкулов Азизбек Пазылбаевич    \n",
       "76153       Разоков Шухрат Абдуалиевич   \n",
       "83496            Асангул кызы Айсулуу    \n",
       "108196    Кадыркулов Ильяс Суеркулович   \n",
       "\n",
       "                                                 activity  \\\n",
       "21457   Деятельность агентов по оптовой торговле товар...   \n",
       "32566                                                       \n",
       "76153                          Разведение прочих животных   \n",
       "83496                     Складирование и хранение грузов   \n",
       "108196  Производство прочего электрического оборудован...   \n",
       "\n",
       "                                                 founders  \n",
       "21457   Атамбаева Диана Алмазбековна, Атамбаева Динара...  \n",
       "32566   Атамбаева Диана Алмазбековна, согласно реестра...  \n",
       "76153   Разоков Шухрат Абдуалиевич, Атамбаев Кадырбек ...  \n",
       "83496   Асангул кызы Айсулуу , Атамбаева Динара Алмазб...  \n",
       "108196                       Атамбаев Сейтек Алмазбекович  "
      ]
     },
     "execution_count": 13,
     "metadata": {},
     "output_type": "execute_result"
    }
   ],
   "source": [
    "df.loc[df['founders'].str.contains(child_regex('Атамбаев', 'Алмазбек'))]"
   ]
  },
  {
   "cell_type": "code",
   "execution_count": 11,
   "metadata": {},
   "outputs": [
    {
     "data": {
      "text/plain": [
       "re.compile(r'Жээнбекова?\\s+\\w+\\s+Сооронб|\\w+\\s+Сооронб\\w+\\s+Жээнбеков',\n",
       "re.IGNORECASE|re.UNICODE)"
      ]
     },
     "execution_count": 11,
     "metadata": {},
     "output_type": "execute_result"
    }
   ],
   "source": [
    "child_regex('Жээнбеков', 'Сооронбай')"
   ]
  },
  {
   "cell_type": "code",
   "execution_count": null,
   "metadata": {},
   "outputs": [],
   "source": []
  }
 ],
 "metadata": {
  "kernelspec": {
   "display_name": "Python 3",
   "language": "python",
   "name": "python3"
  },
  "language_info": {
   "codemirror_mode": {
    "name": "ipython",
    "version": 3
   },
   "file_extension": ".py",
   "mimetype": "text/x-python",
   "name": "python",
   "nbconvert_exporter": "python",
   "pygments_lexer": "ipython3",
   "version": "3.7.0"
  }
 },
 "nbformat": 4,
 "nbformat_minor": 2
}
